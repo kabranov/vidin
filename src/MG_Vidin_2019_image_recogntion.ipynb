{
  "nbformat": 4,
  "nbformat_minor": 0,
  "metadata": {
    "colab": {
      "name": "MG_Vidin_2019_image_recogntion.ipynb",
      "provenance": [],
      "collapsed_sections": [],
      "include_colab_link": true
    },
    "kernelspec": {
      "name": "python3",
      "display_name": "Python 3"
    }
  },
  "cells": [
    {
      "cell_type": "markdown",
      "metadata": {
        "id": "view-in-github",
        "colab_type": "text"
      },
      "source": [
        "<a href=\"https://colab.research.google.com/github/kabranov/vidin/blob/master/MG_Vidin_2019_image_recogntion.ipynb\" target=\"_parent\"><img src=\"https://colab.research.google.com/assets/colab-badge.svg\" alt=\"Open In Colab\"/></a>"
      ]
    },
    {
      "cell_type": "markdown",
      "metadata": {
        "id": "QaeUX42JV5xn",
        "colab_type": "text"
      },
      "source": [
        "#  Зареждане на библиотеки за машинно обучение\n"
      ]
    },
    {
      "cell_type": "code",
      "metadata": {
        "id": "eBSsDhPcV0Fy",
        "colab_type": "code",
        "colab": {}
      },
      "source": [
        "from sklearn.datasets import load_digits\n",
        "from sklearn.model_selection import train_test_split\n",
        "import numpy as np \n",
        "from sklearn.neighbors import KNeighborsClassifier\n",
        "import matplotlib.pyplot as plt"
      ],
      "execution_count": 0,
      "outputs": []
    },
    {
      "cell_type": "markdown",
      "metadata": {
        "id": "XkDlxVEzTP11",
        "colab_type": "text"
      },
      "source": [
        "# Зареждане на данните за машинно обучние \n"
      ]
    },
    {
      "cell_type": "code",
      "metadata": {
        "id": "tXVwINybSunZ",
        "colab_type": "code",
        "colab": {
          "base_uri": "https://localhost:8080/",
          "height": 34
        },
        "outputId": "ad8c370b-b244-4bdc-9d1b-f0656aafd3d1"
      },
      "source": [
        "digits = load_digits()\n",
        "x_train = digits.data\n",
        "y_train = digits.target\n",
        "\n",
        "print (\"Дължина на записа с цифри за обучение =%d\"%len(x_train))"
      ],
      "execution_count": 13,
      "outputs": [
        {
          "output_type": "stream",
          "text": [
            "Дължина на записа с цифри за обучение =1797\n"
          ],
          "name": "stdout"
        }
      ]
    },
    {
      "cell_type": "markdown",
      "metadata": {
        "id": "4kWMZ8ZciINm",
        "colab_type": "text"
      },
      "source": [
        "\n",
        "# Визуализация на данните за машинно обучние \n",
        "\n",
        "\n"
      ]
    },
    {
      "cell_type": "code",
      "metadata": {
        "id": "VLLUT-2UZCVk",
        "colab_type": "code",
        "colab": {
          "base_uri": "https://localhost:8080/",
          "height": 862
        },
        "outputId": "790ff304-4f64-4f64-fe9e-eda8dbc0bc0e"
      },
      "source": [
        "images_and_labels = list(zip(digits.images, digits.target))\n",
        "f, axs = plt.subplots(2,2,figsize=(15,15))\n",
        "for index, (image, label) in enumerate(images_and_labels[:35]):\n",
        "    plt.subplot(7, 5, index + 1)\n",
        "    plt.axis('off')\n",
        "    plt.imshow(image, cmap=plt.cm.gray_r, interpolation='nearest')\n",
        "    plt.title('Training: %i' % label)"
      ],
      "execution_count": 5,
      "outputs": [
        {
          "output_type": "display_data",
          "data": {
            "image/png": "[encoded data removed]",
            "text/plain": [
              "<Figure size 1080x1080 with 35 Axes>"
            ]
          },
          "metadata": {
            "tags": []
          }
        }
      ]
    },
    {
      "cell_type": "markdown",
      "metadata": {
        "id": "GjdCy3y2VOtD",
        "colab_type": "text"
      },
      "source": [
        "# Тук се извършва обучението: X е масивът с 1797 записа за цифри, Y - са самите цифрите\n"
      ]
    },
    {
      "cell_type": "code",
      "metadata": {
        "id": "C53jWwUoS5Xa",
        "colab_type": "code",
        "outputId": "13b91818-e5d6-4a90-de41-1c8d84f10e17",
        "colab": {
          "base_uri": "https://localhost:8080/",
          "height": 68
        }
      },
      "source": [
        "classifier = KNeighborsClassifier(n_neighbors=5, metric='euclidean')\n",
        "classifier.fit(x_train, y_train)\n"
      ],
      "execution_count": 16,
      "outputs": [
        {
          "output_type": "execute_result",
          "data": {
            "text/plain": [
              "KNeighborsClassifier(algorithm='auto', leaf_size=30, metric='euclidean',\n",
              "                     metric_params=None, n_jobs=None, n_neighbors=5, p=2,\n",
              "                     weights='uniform')"
            ]
          },
          "metadata": {
            "tags": []
          },
          "execution_count": 16
        }
      ]
    },
    {
      "cell_type": "code",
      "metadata": {
        "id": "ImVtAjY-a-ng",
        "colab_type": "code",
        "colab": {
          "base_uri": "https://localhost:8080/",
          "height": 282
        },
        "outputId": "ac6cb885-e56a-45df-aa5c-cc6b69062ee9"
      },
      "source": [
        "\n",
        "#  Тест с данни на потребителя - растер с данни за числото 2.\n",
        "\n",
        "\n",
        "one = [[ 0.,  0.,  0., 12., 13.,  0.,  0.,  0.],\n",
        "       [ 0.,  0.,  0., 11., 16.,  0.,  0.,  0.],\n",
        "       [ 0.,  0.,  15., 15., 16.,  0.,  0.,  0.],\n",
        "       [ 0., 10., 15., 16., 16.,  0.,  0.,  0.],\n",
        "       [ 0.,  0.,  1., 16., 16.,  0.,  0.,  0.],\n",
        "       [ 0.,  0.,  1., 16., 16.,  0.,  0.,  0.],\n",
        "       [ 0.,  0.,  1., 16., 16.,  0.,  0.,  0.],\n",
        "       [ 0.,  0.,  0., 11., 16.,  0.,  0.,  0.]]\n",
        "\n",
        "np_one = np.array(one) \n",
        "\n",
        "plt.imshow(one, cmap=plt.cm.gray_r, interpolation='nearest')\n",
        "plt.show()\n",
        "\n",
        "prediction = classifier.predict(np_one.flatten().reshape(1,-1))\n",
        "print (\"predicted value=%d\"%(prediction))"
      ],
      "execution_count": 17,
      "outputs": [
        {
          "output_type": "display_data",
          "data": {
            "image/png": "[encoded data removed]",
            "text/plain": [
              "<Figure size 432x288 with 1 Axes>"
            ]
          },
          "metadata": {
            "tags": []
          }
        },
        {
          "output_type": "stream",
          "text": [
            "predicted value=1\n"
          ],
          "name": "stdout"
        }
      ]
    },
    {
      "cell_type": "code",
      "metadata": {
        "id": "iWlqhLKgj65k",
        "colab_type": "code",
        "colab": {
          "base_uri": "https://localhost:8080/",
          "height": 282
        },
        "outputId": "d0c6e0c7-c314-400e-dcbc-cbdccdc0a548"
      },
      "source": [
        "two = [  \t[ 0.,   0.,   0.,  16.,  16.,   0.,   0.,   0.],\n",
        "          [\t0.,   0.,  16.,  12.,  11.,  12.,   0.,   0.],\n",
        "          [\t0.,   0.,  1.,   1.,   5.,  15.,   0.,   0.],\n",
        "          [\t0.,   0.,   0.,   0.,  12.,  11.,   0.,   0.], \n",
        "          [\t0.,   0.,   0.,   1.,  16.,   7.,   0.,   0.], \n",
        "          [\t0.,   0.,   0.,   10., 15.,   0.,   0.,   0.],\n",
        "          [\t0.,   0.,  12.,   0.,   0.,   0.,   1.,   0.],\n",
        "          [\t0.,   15.,  16.,  16.,   8.,  13.,  0.,   0.]]\n",
        "\n",
        "\n",
        "np_two = np.array(two) \n",
        "\n",
        "plt.imshow(np_two, cmap=plt.cm.gray_r, interpolation='nearest')\n",
        "plt.show()\n",
        "\n",
        "prediction = classifier.predict(np_two.flatten().reshape(1,-1))\n",
        "print (\" Разпознато число = %d\"%(prediction))\n"
      ],
      "execution_count": 18,
      "outputs": [
        {
          "output_type": "display_data",
          "data": {
            "image/png": "[encoded data removed]",
            "text/plain": [
              "<Figure size 432x288 with 1 Axes>"
            ]
          },
          "metadata": {
            "tags": []
          }
        },
        {
          "output_type": "stream",
          "text": [
            " Разпознато число = 2\n"
          ],
          "name": "stdout"
        }
      ]
    },
    {
      "cell_type": "code",
      "metadata": {
        "id": "_Obceks2TMm-",
        "colab_type": "code",
        "colab": {
          "base_uri": "https://localhost:8080/",
          "height": 282
        },
        "outputId": "3762f377-2202-4f03-ae1d-05d0dfbbbb5a"
      },
      "source": [
        "#  Тест с данни на потребителя - растер с данни за числото 3.\n",
        "\n",
        "three = [  \t[0.,   0.,  11.,  16.,  16.,    0.,    0.,   0.],\n",
        "          \t[0.,   5.,  16.,   0,  11.,   12.,   0.,   0.],\n",
        "            [0.,   3.,   0.,   1.,   1.,   15.,   0.,   0.],\n",
        "          \t[0.,   0.,   0.,   0.,  12.,   1.,   0.,   0.], \n",
        "          \t[0.,   0.,   0.,   16., 16.,    0.,   0.,   0.], \n",
        "          \t[0.,   0.,   0.,   0.,  15.,   10.,   0.,   0.],\n",
        "          \t[0.,   11.,  5.,   0.,   0.,   11.,   0.,   0.],\n",
        "          \t[0.,   0.,  16.,  16.,   8.,    1.,   0.,   0.]]\n",
        "\n",
        "np_three = np.array(three) \n",
        "\n",
        "plt.imshow(three, cmap=plt.cm.gray_r, interpolation='nearest')\n",
        "plt.show()\n",
        "\n",
        "prediction = classifier.predict(np_three.flatten().reshape(1,-1))\n",
        "print (\" Разпознато число = %d\"%(prediction))\n"
      ],
      "execution_count": 19,
      "outputs": [
        {
          "output_type": "display_data",
          "data": {
            "image/png": "[encoded data removed]",
            "text/plain": [
              "<Figure size 432x288 with 1 Axes>"
            ]
          },
          "metadata": {
            "tags": []
          }
        },
        {
          "output_type": "stream",
          "text": [
            " Разпознато число = 3\n"
          ],
          "name": "stdout"
        }
      ]
    },
    {
      "cell_type": "code",
      "metadata": {
        "id": "4qYPdPBkVhIY",
        "colab_type": "code",
        "colab": {
          "base_uri": "https://localhost:8080/",
          "height": 282
        },
        "outputId": "31aae361-96e2-4f82-aca3-25258107529b"
      },
      "source": [
        "\"\"#  Тест с данни на потребителя - неразпознаваем растер.\n",
        "\n",
        "unknown = [ [11.,   0.,  11.,  16.,   0.,   10.,   0.,   0.],\n",
        "          \t[11.,   5.,  16.,  12.,  11.,   12.,   0.,   0.],\n",
        "            [0.,   11.,   0.,   1.,   5.,   15.,   0.,   0.],\n",
        "          \t[11.,   0.,   0.,   0.,  12.,   11.,   0.,   0.], \n",
        "          \t[11.,  11.,  11.,  11.,  16.,    7.,   0.,   0.], \n",
        "          \t[11.,  11.,  11.,  11.,  15.,   10.,   0.,   0.],\n",
        "          \t[11.,  11.,   0.,  11.,   0.,   11.,  16.,   0.],\n",
        "          \t[0.,   11.,  16.,  16.,   8.,   13.,   0.,   0.]]\n",
        "\n",
        "np_unknown = np.array(unknown) \n",
        "\n",
        "plt.imshow(np_unknown, cmap=plt.cm.gray_r, interpolation='nearest')\n",
        "plt.show()\n",
        "\n",
        "prediction = classifier.predict(np_unknown.flatten().reshape(1,-1))\n",
        "print (\" Разпознато число = %d\"%(prediction))"
      ],
      "execution_count": 20,
      "outputs": [
        {
          "output_type": "display_data",
          "data": {
            "image/png": "[encoded data removed]",
            "text/plain": [
              "<Figure size 432x288 with 1 Axes>"
            ]
          },
          "metadata": {
            "tags": []
          }
        },
        {
          "output_type": "stream",
          "text": [
            " Разпознато число = 2\n"
          ],
          "name": "stdout"
        }
      ]
    },
    {
      "cell_type": "code",
      "metadata": {
        "id": "L_HjWRS4XtiC",
        "colab_type": "code",
        "colab": {}
      },
      "source": [
        ""
      ],
      "execution_count": 0,
      "outputs": []
    }
  ]
}